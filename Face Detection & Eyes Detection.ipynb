{
 "cells": [
  {
   "cell_type": "code",
   "execution_count": 1,
   "metadata": {
    "collapsed": true
   },
   "outputs": [],
   "source": [
    "import cv2\n",
    "import numpy as np\n",
    "\n",
    "face_classifier=cv2.CascadeClassifier('C:/Users/mayank singh/Desktop/Opencv/haarcascade_frontalface_default.xml')\n",
    "eye_classifier=cv2.CascadeClassifier('C:/Users/mayank singh/Desktop/Opencv/haarcascade_eye.xml')\n",
    "\n",
    "image=cv2.imread('C:/Users/mayank singh/Desktop/Opencv/modi1.jpg')\n",
    "\n",
    "grayscaletarget=cv2.cvtColor(image,cv2.COLOR_BGR2GRAY)\n",
    "faces=face_classifier.detectMultiScale(grayscaletarget,1.3,5)\n",
    "\n",
    "if faces is ():\n",
    "    print('No Face found')\n",
    "    \n",
    "for (x,y,w,h) in faces:\n",
    "    cv2.rectangle(image,(x,y),(x+w,y+h),(0,0,225),2)\n",
    "    cv2.imshow('Face detected',image)\n",
    "    cv2.waitKey(0)\n",
    "    \n",
    "    roi_gray=grayscaletarget[y:y+h,x:x+w] #corping the face \n",
    "    roi_color=image[y:y+h,x:x+w]\n",
    "    eye=eye_classifier.detectMultiScale(roi_gray)\n",
    "    for (ex,ey,ew,eh) in eye:\n",
    "        cv2.rectangle(roi_color,(ex,ey),(ex+ew,ey+eh),(225,0,0),2)\n",
    "        cv2.imshow('Face detected',image)\n",
    "cv2.waitKey(0)\n",
    "cv2.destroyAllWindows()"
   ]
  }
 ],
 "metadata": {
  "kernelspec": {
   "display_name": "Python 3",
   "language": "python",
   "name": "python3"
  },
  "language_info": {
   "codemirror_mode": {
    "name": "ipython",
    "version": 3
   },
   "file_extension": ".py",
   "mimetype": "text/x-python",
   "name": "python",
   "nbconvert_exporter": "python",
   "pygments_lexer": "ipython3",
   "version": "3.6.2"
  }
 },
 "nbformat": 4,
 "nbformat_minor": 2
}
